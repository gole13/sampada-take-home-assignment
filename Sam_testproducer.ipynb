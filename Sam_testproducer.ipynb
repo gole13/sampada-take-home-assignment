{
 "cells": [
  {
   "cell_type": "markdown",
   "metadata": {},
   "source": [
    "# Produce messages to an Apache Kafka topic\n",
    "\n",
    "In this notebook you will learn how to produce messages to an Apache Kafka topic\n",
    "\n",
    "![Produce messages to an Apache Kafka Topic](../img/produce.png)\n",
    "\n",
    "---\n",
    "\n",
    "## Prerequisites\n",
    "\n",
    "To start the tutorial you need to:\n",
    "\n",
    "* Download the Aiven for Apache Kafka SSL certificates as mentioned in the [README instructions](../README.md#Download-the-required-SSL-certificates)\n",
    "* Retrieve the Aiven for Apache Kafka hostname and port, from the [Aiven Console](https://console.aiven.io/) in the Aiven for Apache Kafka service overview\n",
    "* Substitute the Apache Kafka hostname and port in the parameters below"
   ]
  },
  {
   "cell_type": "code",
   "execution_count": 1,
   "metadata": {},
   "outputs": [],
   "source": [
    "# Replace the following two placeholders with Aiven for Apache Kafka service hostname and port\n",
    "\n",
    "hostname=\"kafka-samtest-sam-tha2023.a.aivencloud.com\"\n",
    "port=\"19266\""
   ]
  },
  {
   "cell_type": "markdown",
   "metadata": {},
   "source": [
    "---\n",
    "\n",
    "### Install the required libraries\n",
    "\n",
    "The following installs the [kafka-python library](https://kafka-python.readthedocs.io/en/master/) we'll use for the tutorial"
   ]
  },
  {
   "cell_type": "code",
   "execution_count": 2,
   "metadata": {},
   "outputs": [
    {
     "name": "stdout",
     "output_type": "stream",
     "text": [
      "Defaulting to user installation because normal site-packages is not writeable\n",
      "Requirement already satisfied: confluent-kafka in /workspace/.pyenv_mirror/user/current/lib/python3.10/site-packages (2.3.0)\n"
     ]
    }
   ],
   "source": [
    "!pip install confluent-kafka"
   ]
  },
  {
   "cell_type": "markdown",
   "metadata": {},
   "source": [
    "---\n",
    "\n",
    "## Create an Apache Kafka producer\n",
    "\n",
    "The next step is to configure the Kafka producer."
   ]
  },
  {
   "cell_type": "code",
   "execution_count": 3,
   "metadata": {},
   "outputs": [],
   "source": [
    "import json\n",
    "from confluent_kafka import SerializingProducer\n",
    "\n",
    "def json_serializer(msg, s_obj):\n",
    "    return json.dumps(msg).encode('ascii')\n",
    "\n",
    "conf = {\n",
    "    'bootstrap.servers': hostname+\":\"+port,\n",
    "    'client.id': 'myclient',\n",
    "    'security.protocol': 'SSL',\n",
    "    'ssl.ca.location': '../sslcerts/ca.pem',\n",
    "    'ssl.certificate.location': '../sslcerts/service.cert',\n",
    "    'ssl.key.location': '../sslcerts/service.key', \n",
    "    'value.serializer': json_serializer,\n",
    "    'key.serializer': json_serializer\n",
    "    }\n",
    "\n",
    "producer = SerializingProducer(conf)"
   ]
  },
  {
   "cell_type": "markdown",
   "metadata": {},
   "source": [
    "---\n",
    "## Push your first message to the `StockTickets` topic\n",
    "\n",
    "In the below section we're pushing the first message to the `StockTickets` topic.\n",
    "\n",
    "> Note that we're producing data to a topic named `StockTickets`, you need to have the topic created beforehand in Apache Kafka or the `kafka.auto_create_topics_enable` parameter enabled\n",
    "\n",
    "The `flush` function ensures that the message is sent to Kafka"
   ]
  },
  {
   "cell_type": "code",
   "execution_count": 13,
   "metadata": {},
   "outputs": [
    {
     "data": {
      "text/plain": [
       "0"
      ]
     },
     "execution_count": 13,
     "metadata": {},
     "output_type": "execute_result"
    }
   ],
   "source": [
    "\n",
    "import uuid\n",
    "from datetime import datetime\n",
    "\n",
    "producer.produce(\n",
    "    \"StockTickets\",\n",
    "    key={\"id\": str(uuid.uuid4())},\n",
    "\n",
    "    value={\n",
    "        \"symbol\": \"AMZN\",\n",
    "        \"price\": 201.25,\n",
    "        \"quantity\": 50,\n",
    "        \"action\": \"buy\",\n",
    "        \"timestamp\": datetime.utcnow().strftime('%Y-%m-%dT%H:%M:%S.%f')\n",
    "    }\n",
    ")\n",
    "\n",
    "producer.flush()"
   ]
  },
  {
   "cell_type": "markdown",
   "metadata": {},
   "source": [
    "---\n",
    "\n",
    "## Produce more messages\n",
    "\n"
   ]
  },
  {
   "cell_type": "code",
   "execution_count": 14,
   "metadata": {},
   "outputs": [
    {
     "data": {
      "text/plain": [
       "0"
      ]
     },
     "execution_count": 14,
     "metadata": {},
     "output_type": "execute_result"
    }
   ],
   "source": [
    "import uuid\n",
    "from datetime import datetime\n",
    "\n",
    "producer.produce(\n",
    "    \"StockTickets\",\n",
    "    key={\"id\": str(uuid.uuid4())},\n",
    "\n",
    "    value={\n",
    "        \"symbol\": \"AAPL\",\n",
    "        \"price\": 150.15,\n",
    "        \"quantity\": 100,\n",
    "        \"action\": \"buy\",\n",
    "        \"timestamp\": datetime.utcnow().strftime('%Y-%m-%dT%H:%M:%S.%f')\n",
    "    }\n",
    ")\n",
    "\n",
    "\n",
    "producer.produce(\n",
    "    \"StockTickets\",\n",
    "    key={\"id\": str(uuid.uuid4())},\n",
    "\n",
    "    value={\n",
    "        \"symbol\": \"MSFT\",\n",
    "        \"price\": 285.53,\n",
    "        \"quantity\": 120,\n",
    "        \"action\": \"buy\",\n",
    "        \"timestamp\": datetime.utcnow().strftime('%Y-%m-%dT%H:%M:%S.%f')\n",
    "    }\n",
    ")\n",
    "\n",
    "producer.produce(\n",
    "    \"StockTickets\",\n",
    "    key={\"id\": str(uuid.uuid4())},\n",
    "\n",
    "    value={\n",
    "        \"symbol\": \"GOOGL\",\n",
    "        \"price\": 140.37,\n",
    "        \"quantity\": 20,\n",
    "        \"action\": \"buy\",\n",
    "        \"timestamp\": datetime.utcnow().strftime('%Y-%m-%dT%H:%M:%S.%f')\n",
    "    }\n",
    ")\n",
    "\n",
    "producer.produce(\n",
    "    \"StockTickets\",\n",
    "    key={\"id\": str(uuid.uuid4())},\n",
    "\n",
    "    value={\n",
    "        \"symbol\": \"TSLA\",\n",
    "        \"price\": 261.44,\n",
    "        \"quantity\":150,\n",
    "        \"action\": \"buy\",\n",
    "        \"timestamp\": datetime.utcnow().strftime('%Y-%m-%dT%H:%M:%S.%f')\n",
    "    }\n",
    ")\n",
    "\n",
    "producer.flush()"
   ]
  }
 ],
 "metadata": {
  "kernelspec": {
   "display_name": "Python 3",
   "language": "python",
   "name": "python3"
  },
  "language_info": {
   "codemirror_mode": {
    "name": "ipython",
    "version": 3
   },
   "file_extension": ".py",
   "mimetype": "text/x-python",
   "name": "python",
   "nbconvert_exporter": "python",
   "pygments_lexer": "ipython3",
   "version": "3.10.12"
  }
 },
 "nbformat": 4,
 "nbformat_minor": 2
}
